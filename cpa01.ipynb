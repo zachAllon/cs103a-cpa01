#This data set describes different evaluation of corruption in 180 countries
#Found in https://www.kaggle.com/datasets/transparencyint/corruption-index
#Are the different measurements of corruption in agreement?
#What are the 5 most corrupt countries?

import pandas as pd
import numpy as np
import matplotlib.pyplot as plt

df = pd.read_csv('corruption.csv')
df.describe()
df.columns #Columns
list(df.index) #Rows
df2 = df.sort_values(by="Rank", ascending = False)
df2.head() # 5 most corrupt countries
graph = df2.plot.scatter(x='CPI score 2019', y='Global Insight Country Risk Ratings', title="Country Corruption vs Risk measurements", legend = True, label = "Country")
dfi = pd.pivot_table(df,values = "Rank",  index = ["Region"], columns = ["Number of sources"]) 
dfi #Done by region so distance is not a factor
dfi= dfi.boxplot() #Sources versus precieved corruption
#There does not seem to big an overarching pattern
dfGroup = df2.groupby("Region")['Country']
dfGroup.describe() #Countries of each region
#For my first question, the graph shoes a general trend of agreement between CPI and Global Insight Country Risk Ratings
#For my second Question, the 5 most corrupt countries are Sudan, Yemen, Syria, South Sudan, and Somalia
